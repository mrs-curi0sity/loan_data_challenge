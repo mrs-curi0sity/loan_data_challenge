{
 "cells": [
  {
   "cell_type": "code",
   "execution_count": 317,
   "id": "dc0d1a21-e569-42aa-94f1-2bd74f31caef",
   "metadata": {},
   "outputs": [],
   "source": [
    "import numpy as np\n",
    "import pandas as pd\n",
    "import seaborn as sns\n",
    "import matplotlib.pyplot as plt\n",
    "\n",
    "from sklearn.model_selection import train_test_split, cross_validate\n",
    "from sklearn.linear_model import LinearRegression, LogisticRegression\n",
    "from sklearn.metrics import confusion_matrix"
   ]
  },
  {
   "cell_type": "code",
   "execution_count": null,
   "id": "6cda23d5-082e-4cb4-bbc9-c61329461da6",
   "metadata": {},
   "outputs": [],
   "source": []
  },
  {
   "cell_type": "code",
   "execution_count": 94,
   "id": "f1235028-42bf-477d-91fe-485a972abdc7",
   "metadata": {},
   "outputs": [],
   "source": [
    "#%matplotlib notebook"
   ]
  },
  {
   "cell_type": "markdown",
   "id": "1da7a0ca-7bd1-44a0-a5fd-7c5137449d72",
   "metadata": {},
   "source": [
    "# Daten lesen"
   ]
  },
  {
   "cell_type": "code",
   "execution_count": 95,
   "id": "c60667a6-5aed-4184-bcbb-2c4681e220b9",
   "metadata": {},
   "outputs": [],
   "source": [
    "df_credit_data = pd.read_csv('data.csv')"
   ]
  },
  {
   "cell_type": "markdown",
   "id": "473d1ce2-2c24-4f85-9533-502f4cbb2e9d",
   "metadata": {},
   "source": [
    "# Dimensionen verstehen"
   ]
  },
  {
   "cell_type": "code",
   "execution_count": 96,
   "id": "b53f49d6-ca35-4ed3-83e9-f7078ed3602d",
   "metadata": {},
   "outputs": [
    {
     "data": {
      "text/plain": [
       "(175862, 28)"
      ]
     },
     "execution_count": 96,
     "metadata": {},
     "output_type": "execute_result"
    }
   ],
   "source": [
    "nrows, ncols = df_credit_data.shape\n",
    "df_credit_data.shape"
   ]
  },
  {
   "cell_type": "code",
   "execution_count": 97,
   "id": "279bb16b-a65b-431c-b00f-2059e36cb793",
   "metadata": {},
   "outputs": [
    {
     "data": {
      "text/html": [
       "<div>\n",
       "<style scoped>\n",
       "    .dataframe tbody tr th:only-of-type {\n",
       "        vertical-align: middle;\n",
       "    }\n",
       "\n",
       "    .dataframe tbody tr th {\n",
       "        vertical-align: top;\n",
       "    }\n",
       "\n",
       "    .dataframe thead th {\n",
       "        text-align: right;\n",
       "    }\n",
       "</style>\n",
       "<table border=\"1\" class=\"dataframe\">\n",
       "  <thead>\n",
       "    <tr style=\"text-align: right;\">\n",
       "      <th></th>\n",
       "      <th>action_taken_name</th>\n",
       "      <th>agency_name</th>\n",
       "      <th>applicant_ethnicity_name</th>\n",
       "      <th>applicant_race_name_1</th>\n",
       "      <th>applicant_sex_name</th>\n",
       "      <th>applicant_income_000s</th>\n",
       "      <th>co_applicant_ethnicity_name</th>\n",
       "      <th>co_applicant_race_name_1</th>\n",
       "      <th>co_applicant_sex_name</th>\n",
       "      <th>county_name</th>\n",
       "      <th>...</th>\n",
       "      <th>owner_occupancy_name</th>\n",
       "      <th>preapproval_name</th>\n",
       "      <th>property_type_name</th>\n",
       "      <th>purchaser_type_name</th>\n",
       "      <th>hud_median_family_income</th>\n",
       "      <th>loan_amount_000s</th>\n",
       "      <th>number_of_1_to_4_family_units</th>\n",
       "      <th>number_of_owner_occupied_units</th>\n",
       "      <th>minority_population</th>\n",
       "      <th>population</th>\n",
       "    </tr>\n",
       "  </thead>\n",
       "  <tbody>\n",
       "    <tr>\n",
       "      <th>0</th>\n",
       "      <td>Application denied by financial institution</td>\n",
       "      <td>Consumer Financial Protection Bureau</td>\n",
       "      <td>Not Hispanic or Latino</td>\n",
       "      <td>White</td>\n",
       "      <td>Female</td>\n",
       "      <td>176.0</td>\n",
       "      <td>No co-applicant</td>\n",
       "      <td>No co-applicant</td>\n",
       "      <td>No co-applicant</td>\n",
       "      <td>Chautauqua County</td>\n",
       "      <td>...</td>\n",
       "      <td>Not owner-occupied as a principal dwelling</td>\n",
       "      <td>Not applicable</td>\n",
       "      <td>One-to-four family dwelling (other than manufa...</td>\n",
       "      <td>Loan was not originated or was not sold in cal...</td>\n",
       "      <td>60000.0</td>\n",
       "      <td>235</td>\n",
       "      <td>2605.0</td>\n",
       "      <td>930.0</td>\n",
       "      <td>6.850000</td>\n",
       "      <td>2979.0</td>\n",
       "    </tr>\n",
       "    <tr>\n",
       "      <th>1</th>\n",
       "      <td>Application withdrawn by applicant</td>\n",
       "      <td>Department of Housing and Urban Development</td>\n",
       "      <td>Not Hispanic or Latino</td>\n",
       "      <td>White</td>\n",
       "      <td>Male</td>\n",
       "      <td>53.0</td>\n",
       "      <td>No co-applicant</td>\n",
       "      <td>No co-applicant</td>\n",
       "      <td>No co-applicant</td>\n",
       "      <td>Erie County</td>\n",
       "      <td>...</td>\n",
       "      <td>Owner-occupied as a principal dwelling</td>\n",
       "      <td>Not applicable</td>\n",
       "      <td>One-to-four family dwelling (other than manufa...</td>\n",
       "      <td>Loan was not originated or was not sold in cal...</td>\n",
       "      <td>69000.0</td>\n",
       "      <td>108</td>\n",
       "      <td>2053.0</td>\n",
       "      <td>821.0</td>\n",
       "      <td>33.580002</td>\n",
       "      <td>4416.0</td>\n",
       "    </tr>\n",
       "    <tr>\n",
       "      <th>2</th>\n",
       "      <td>Loan originated</td>\n",
       "      <td>Consumer Financial Protection Bureau</td>\n",
       "      <td>Not Hispanic or Latino</td>\n",
       "      <td>White</td>\n",
       "      <td>Male</td>\n",
       "      <td>223.0</td>\n",
       "      <td>Not Hispanic or Latino</td>\n",
       "      <td>White</td>\n",
       "      <td>Female</td>\n",
       "      <td>Queens County</td>\n",
       "      <td>...</td>\n",
       "      <td>Owner-occupied as a principal dwelling</td>\n",
       "      <td>Not applicable</td>\n",
       "      <td>One-to-four family dwelling (other than manufa...</td>\n",
       "      <td>Loan was not originated or was not sold in cal...</td>\n",
       "      <td>71300.0</td>\n",
       "      <td>659</td>\n",
       "      <td>497.0</td>\n",
       "      <td>387.0</td>\n",
       "      <td>49.959999</td>\n",
       "      <td>1363.0</td>\n",
       "    </tr>\n",
       "    <tr>\n",
       "      <th>3</th>\n",
       "      <td>Loan originated</td>\n",
       "      <td>Consumer Financial Protection Bureau</td>\n",
       "      <td>Not Hispanic or Latino</td>\n",
       "      <td>Asian</td>\n",
       "      <td>Female</td>\n",
       "      <td>43.0</td>\n",
       "      <td>No co-applicant</td>\n",
       "      <td>No co-applicant</td>\n",
       "      <td>No co-applicant</td>\n",
       "      <td>Queens County</td>\n",
       "      <td>...</td>\n",
       "      <td>Owner-occupied as a principal dwelling</td>\n",
       "      <td>Not applicable</td>\n",
       "      <td>One-to-four family dwelling (other than manufa...</td>\n",
       "      <td>Loan was not originated or was not sold in cal...</td>\n",
       "      <td>71300.0</td>\n",
       "      <td>103</td>\n",
       "      <td>251.0</td>\n",
       "      <td>558.0</td>\n",
       "      <td>32.090000</td>\n",
       "      <td>1960.0</td>\n",
       "    </tr>\n",
       "    <tr>\n",
       "      <th>4</th>\n",
       "      <td>Loan originated</td>\n",
       "      <td>National Credit Union Administration</td>\n",
       "      <td>Not Hispanic or Latino</td>\n",
       "      <td>White</td>\n",
       "      <td>Male</td>\n",
       "      <td>72.0</td>\n",
       "      <td>No co-applicant</td>\n",
       "      <td>No co-applicant</td>\n",
       "      <td>No co-applicant</td>\n",
       "      <td>Steuben County</td>\n",
       "      <td>...</td>\n",
       "      <td>Owner-occupied as a principal dwelling</td>\n",
       "      <td>Preapproval was requested</td>\n",
       "      <td>One-to-four family dwelling (other than manufa...</td>\n",
       "      <td>Loan was not originated or was not sold in cal...</td>\n",
       "      <td>60000.0</td>\n",
       "      <td>45</td>\n",
       "      <td>1514.0</td>\n",
       "      <td>1003.0</td>\n",
       "      <td>2.120000</td>\n",
       "      <td>3391.0</td>\n",
       "    </tr>\n",
       "  </tbody>\n",
       "</table>\n",
       "<p>5 rows × 28 columns</p>\n",
       "</div>"
      ],
      "text/plain": [
       "                             action_taken_name  \\\n",
       "0  Application denied by financial institution   \n",
       "1           Application withdrawn by applicant   \n",
       "2                              Loan originated   \n",
       "3                              Loan originated   \n",
       "4                              Loan originated   \n",
       "\n",
       "                                   agency_name applicant_ethnicity_name  \\\n",
       "0         Consumer Financial Protection Bureau   Not Hispanic or Latino   \n",
       "1  Department of Housing and Urban Development   Not Hispanic or Latino   \n",
       "2         Consumer Financial Protection Bureau   Not Hispanic or Latino   \n",
       "3         Consumer Financial Protection Bureau   Not Hispanic or Latino   \n",
       "4         National Credit Union Administration   Not Hispanic or Latino   \n",
       "\n",
       "  applicant_race_name_1 applicant_sex_name  applicant_income_000s  \\\n",
       "0                 White             Female                  176.0   \n",
       "1                 White               Male                   53.0   \n",
       "2                 White               Male                  223.0   \n",
       "3                 Asian             Female                   43.0   \n",
       "4                 White               Male                   72.0   \n",
       "\n",
       "  co_applicant_ethnicity_name co_applicant_race_name_1 co_applicant_sex_name  \\\n",
       "0             No co-applicant          No co-applicant       No co-applicant   \n",
       "1             No co-applicant          No co-applicant       No co-applicant   \n",
       "2      Not Hispanic or Latino                    White                Female   \n",
       "3             No co-applicant          No co-applicant       No co-applicant   \n",
       "4             No co-applicant          No co-applicant       No co-applicant   \n",
       "\n",
       "         county_name  ...                        owner_occupancy_name  \\\n",
       "0  Chautauqua County  ...  Not owner-occupied as a principal dwelling   \n",
       "1        Erie County  ...      Owner-occupied as a principal dwelling   \n",
       "2      Queens County  ...      Owner-occupied as a principal dwelling   \n",
       "3      Queens County  ...      Owner-occupied as a principal dwelling   \n",
       "4     Steuben County  ...      Owner-occupied as a principal dwelling   \n",
       "\n",
       "            preapproval_name  \\\n",
       "0             Not applicable   \n",
       "1             Not applicable   \n",
       "2             Not applicable   \n",
       "3             Not applicable   \n",
       "4  Preapproval was requested   \n",
       "\n",
       "                                  property_type_name  \\\n",
       "0  One-to-four family dwelling (other than manufa...   \n",
       "1  One-to-four family dwelling (other than manufa...   \n",
       "2  One-to-four family dwelling (other than manufa...   \n",
       "3  One-to-four family dwelling (other than manufa...   \n",
       "4  One-to-four family dwelling (other than manufa...   \n",
       "\n",
       "                                 purchaser_type_name hud_median_family_income  \\\n",
       "0  Loan was not originated or was not sold in cal...                  60000.0   \n",
       "1  Loan was not originated or was not sold in cal...                  69000.0   \n",
       "2  Loan was not originated or was not sold in cal...                  71300.0   \n",
       "3  Loan was not originated or was not sold in cal...                  71300.0   \n",
       "4  Loan was not originated or was not sold in cal...                  60000.0   \n",
       "\n",
       "  loan_amount_000s number_of_1_to_4_family_units  \\\n",
       "0              235                        2605.0   \n",
       "1              108                        2053.0   \n",
       "2              659                         497.0   \n",
       "3              103                         251.0   \n",
       "4               45                        1514.0   \n",
       "\n",
       "  number_of_owner_occupied_units minority_population population  \n",
       "0                          930.0            6.850000     2979.0  \n",
       "1                          821.0           33.580002     4416.0  \n",
       "2                          387.0           49.959999     1363.0  \n",
       "3                          558.0           32.090000     1960.0  \n",
       "4                         1003.0            2.120000     3391.0  \n",
       "\n",
       "[5 rows x 28 columns]"
      ]
     },
     "execution_count": 97,
     "metadata": {},
     "output_type": "execute_result"
    }
   ],
   "source": [
    "df_credit_data.head()"
   ]
  },
  {
   "cell_type": "code",
   "execution_count": 98,
   "id": "a2886b2c-493e-464b-8fb9-4fee2b66b941",
   "metadata": {},
   "outputs": [
    {
     "data": {
      "text/html": [
       "<div>\n",
       "<style scoped>\n",
       "    .dataframe tbody tr th:only-of-type {\n",
       "        vertical-align: middle;\n",
       "    }\n",
       "\n",
       "    .dataframe tbody tr th {\n",
       "        vertical-align: top;\n",
       "    }\n",
       "\n",
       "    .dataframe thead th {\n",
       "        text-align: right;\n",
       "    }\n",
       "</style>\n",
       "<table border=\"1\" class=\"dataframe\">\n",
       "  <thead>\n",
       "    <tr style=\"text-align: right;\">\n",
       "      <th></th>\n",
       "      <th>applicant_income_000s</th>\n",
       "      <th>hud_median_family_income</th>\n",
       "      <th>loan_amount_000s</th>\n",
       "      <th>number_of_1_to_4_family_units</th>\n",
       "      <th>number_of_owner_occupied_units</th>\n",
       "      <th>minority_population</th>\n",
       "      <th>population</th>\n",
       "    </tr>\n",
       "  </thead>\n",
       "  <tbody>\n",
       "    <tr>\n",
       "      <th>count</th>\n",
       "      <td>151344.000000</td>\n",
       "      <td>175178.000000</td>\n",
       "      <td>175862.000000</td>\n",
       "      <td>174951.000000</td>\n",
       "      <td>175020.000000</td>\n",
       "      <td>175166.000000</td>\n",
       "      <td>175166.000000</td>\n",
       "    </tr>\n",
       "    <tr>\n",
       "      <th>mean</th>\n",
       "      <td>140.596780</td>\n",
       "      <td>78158.378335</td>\n",
       "      <td>333.287771</td>\n",
       "      <td>1514.470783</td>\n",
       "      <td>1214.276243</td>\n",
       "      <td>29.182163</td>\n",
       "      <td>4749.017338</td>\n",
       "    </tr>\n",
       "    <tr>\n",
       "      <th>std</th>\n",
       "      <td>273.130096</td>\n",
       "      <td>16202.442285</td>\n",
       "      <td>1159.473567</td>\n",
       "      <td>792.348709</td>\n",
       "      <td>609.515566</td>\n",
       "      <td>29.027924</td>\n",
       "      <td>1878.994617</td>\n",
       "    </tr>\n",
       "    <tr>\n",
       "      <th>min</th>\n",
       "      <td>1.000000</td>\n",
       "      <td>57200.000000</td>\n",
       "      <td>1.000000</td>\n",
       "      <td>6.000000</td>\n",
       "      <td>3.000000</td>\n",
       "      <td>0.340000</td>\n",
       "      <td>1.000000</td>\n",
       "    </tr>\n",
       "    <tr>\n",
       "      <th>25%</th>\n",
       "      <td>58.000000</td>\n",
       "      <td>69000.000000</td>\n",
       "      <td>102.000000</td>\n",
       "      <td>967.000000</td>\n",
       "      <td>748.000000</td>\n",
       "      <td>7.760000</td>\n",
       "      <td>3444.000000</td>\n",
       "    </tr>\n",
       "    <tr>\n",
       "      <th>50%</th>\n",
       "      <td>90.000000</td>\n",
       "      <td>71300.000000</td>\n",
       "      <td>208.000000</td>\n",
       "      <td>1525.000000</td>\n",
       "      <td>1197.000000</td>\n",
       "      <td>17.200001</td>\n",
       "      <td>4554.000000</td>\n",
       "    </tr>\n",
       "    <tr>\n",
       "      <th>75%</th>\n",
       "      <td>141.000000</td>\n",
       "      <td>82700.000000</td>\n",
       "      <td>366.000000</td>\n",
       "      <td>2011.000000</td>\n",
       "      <td>1640.000000</td>\n",
       "      <td>39.320000</td>\n",
       "      <td>5892.000000</td>\n",
       "    </tr>\n",
       "    <tr>\n",
       "      <th>max</th>\n",
       "      <td>9999.000000</td>\n",
       "      <td>109000.000000</td>\n",
       "      <td>99999.000000</td>\n",
       "      <td>6345.000000</td>\n",
       "      <td>6454.000000</td>\n",
       "      <td>100.000000</td>\n",
       "      <td>26588.000000</td>\n",
       "    </tr>\n",
       "  </tbody>\n",
       "</table>\n",
       "</div>"
      ],
      "text/plain": [
       "       applicant_income_000s  hud_median_family_income  loan_amount_000s  \\\n",
       "count          151344.000000             175178.000000     175862.000000   \n",
       "mean              140.596780              78158.378335        333.287771   \n",
       "std               273.130096              16202.442285       1159.473567   \n",
       "min                 1.000000              57200.000000          1.000000   \n",
       "25%                58.000000              69000.000000        102.000000   \n",
       "50%                90.000000              71300.000000        208.000000   \n",
       "75%               141.000000              82700.000000        366.000000   \n",
       "max              9999.000000             109000.000000      99999.000000   \n",
       "\n",
       "       number_of_1_to_4_family_units  number_of_owner_occupied_units  \\\n",
       "count                  174951.000000                   175020.000000   \n",
       "mean                     1514.470783                     1214.276243   \n",
       "std                       792.348709                      609.515566   \n",
       "min                         6.000000                        3.000000   \n",
       "25%                       967.000000                      748.000000   \n",
       "50%                      1525.000000                     1197.000000   \n",
       "75%                      2011.000000                     1640.000000   \n",
       "max                      6345.000000                     6454.000000   \n",
       "\n",
       "       minority_population     population  \n",
       "count        175166.000000  175166.000000  \n",
       "mean             29.182163    4749.017338  \n",
       "std              29.027924    1878.994617  \n",
       "min               0.340000       1.000000  \n",
       "25%               7.760000    3444.000000  \n",
       "50%              17.200001    4554.000000  \n",
       "75%              39.320000    5892.000000  \n",
       "max             100.000000   26588.000000  "
      ]
     },
     "execution_count": 98,
     "metadata": {},
     "output_type": "execute_result"
    }
   ],
   "source": [
    "df_credit_data.describe()"
   ]
  },
  {
   "cell_type": "markdown",
   "id": "a553a836-92ae-4224-9651-292fd296c7e7",
   "metadata": {
    "tags": []
   },
   "source": [
    "# Problematische Daten\n",
    "Erster Impuls: oh no! Daten über Geschlecht, Ethnie, Nationalität usw möchte ich eigentlich nicht berücksichtigen!\n",
    "Strategie: \n",
    "1. hoffen, dass der Zusammenhang eh nur minimal ist => Spalten ignorieren\n",
    "2. Solte der Zusammenhang sehr stark sein: mit Team / Vorgesetzten besrprechen, was rechtlich überhaupt in dem Fall erlaubt ist und inwiefern wir die Dimensionen nutzen wollen."
   ]
  },
  {
   "cell_type": "markdown",
   "id": "1af78c84-fc82-4e15-a2b7-ced18c93b480",
   "metadata": {},
   "source": [
    "# Datentypen und missing values"
   ]
  },
  {
   "cell_type": "markdown",
   "id": "eb1a7519-a002-4ee3-9803-bc81a9cab717",
   "metadata": {},
   "source": [
    "ok, viele textspalten. ich werde get_dummies gebrauchen ;)"
   ]
  },
  {
   "cell_type": "code",
   "execution_count": 99,
   "id": "40135655-2cfa-4642-9a43-d5c3a8e80d72",
   "metadata": {},
   "outputs": [
    {
     "data": {
      "text/plain": [
       "action_taken_name                  object\n",
       "agency_name                        object\n",
       "applicant_ethnicity_name           object\n",
       "applicant_race_name_1              object\n",
       "applicant_sex_name                 object\n",
       "applicant_income_000s             float64\n",
       "co_applicant_ethnicity_name        object\n",
       "co_applicant_race_name_1           object\n",
       "co_applicant_sex_name              object\n",
       "county_name                        object\n",
       "denial_reason_name_1               object\n",
       "denial_reason_name_2               object\n",
       "denial_reason_name_3               object\n",
       "hoepa_status_name                  object\n",
       "lien_status_name                   object\n",
       "loan_purpose_name                  object\n",
       "loan_type_name                     object\n",
       "msamd_name                         object\n",
       "owner_occupancy_name               object\n",
       "preapproval_name                   object\n",
       "property_type_name                 object\n",
       "purchaser_type_name                object\n",
       "hud_median_family_income          float64\n",
       "loan_amount_000s                    int64\n",
       "number_of_1_to_4_family_units     float64\n",
       "number_of_owner_occupied_units    float64\n",
       "minority_population               float64\n",
       "population                        float64\n",
       "dtype: object"
      ]
     },
     "execution_count": 99,
     "metadata": {},
     "output_type": "execute_result"
    }
   ],
   "source": [
    "df_credit_data.dtypes"
   ]
  },
  {
   "cell_type": "markdown",
   "id": "22519ecb-7244-4a13-9244-1f1b953e1aa3",
   "metadata": {},
   "source": [
    "Datensatz insgesamt sehr vollständig bis auf denial_reasons und einkommen"
   ]
  },
  {
   "cell_type": "code",
   "execution_count": 100,
   "id": "62e4fbb3-b13c-415e-9e00-0b9bc8fca587",
   "metadata": {},
   "outputs": [
    {
     "data": {
      "text/plain": [
       "denial_reason_name_3              99.48\n",
       "denial_reason_name_2              97.36\n",
       "denial_reason_name_1              86.88\n",
       "applicant_income_000s             13.94\n",
       "msamd_name                         8.33\n",
       "number_of_1_to_4_family_units      0.52\n",
       "number_of_owner_occupied_units     0.48\n",
       "population                         0.40\n",
       "minority_population                0.40\n",
       "hud_median_family_income           0.39\n",
       "county_name                        0.28\n",
       "loan_amount_000s                   0.00\n",
       "purchaser_type_name                0.00\n",
       "property_type_name                 0.00\n",
       "preapproval_name                   0.00\n",
       "owner_occupancy_name               0.00\n",
       "action_taken_name                  0.00\n",
       "loan_type_name                     0.00\n",
       "loan_purpose_name                  0.00\n",
       "agency_name                        0.00\n",
       "hoepa_status_name                  0.00\n",
       "co_applicant_sex_name              0.00\n",
       "co_applicant_race_name_1           0.00\n",
       "co_applicant_ethnicity_name        0.00\n",
       "applicant_sex_name                 0.00\n",
       "applicant_race_name_1              0.00\n",
       "applicant_ethnicity_name           0.00\n",
       "lien_status_name                   0.00\n",
       "dtype: float64"
      ]
     },
     "execution_count": 100,
     "metadata": {},
     "output_type": "execute_result"
    }
   ],
   "source": [
    "round(df_credit_data.isna().sum() / nrows * 100, 2).sort_values(ascending=False)"
   ]
  },
  {
   "cell_type": "code",
   "execution_count": 101,
   "id": "4c295ac8-63ff-4504-be08-946964248eeb",
   "metadata": {},
   "outputs": [
    {
     "data": {
      "text/plain": [
       "Index(['action_taken_name', 'agency_name', 'applicant_ethnicity_name',\n",
       "       'applicant_race_name_1', 'applicant_sex_name', 'applicant_income_000s',\n",
       "       'co_applicant_ethnicity_name', 'co_applicant_race_name_1',\n",
       "       'co_applicant_sex_name', 'county_name', 'denial_reason_name_1',\n",
       "       'denial_reason_name_2', 'denial_reason_name_3', 'hoepa_status_name',\n",
       "       'lien_status_name', 'loan_purpose_name', 'loan_type_name', 'msamd_name',\n",
       "       'owner_occupancy_name', 'preapproval_name', 'property_type_name',\n",
       "       'purchaser_type_name', 'hud_median_family_income', 'loan_amount_000s',\n",
       "       'number_of_1_to_4_family_units', 'number_of_owner_occupied_units',\n",
       "       'minority_population', 'population'],\n",
       "      dtype='object')"
      ]
     },
     "execution_count": 101,
     "metadata": {},
     "output_type": "execute_result"
    }
   ],
   "source": [
    "df_credit_data.columns"
   ]
  },
  {
   "cell_type": "markdown",
   "id": "21e630c1-3025-412a-8a03-1c23d9b310bd",
   "metadata": {
    "tags": []
   },
   "source": [
    "# Untersuchung einzelner Variablen"
   ]
  },
  {
   "cell_type": "code",
   "execution_count": 102,
   "id": "89f4208d-7425-45d4-9890-270602d467af",
   "metadata": {},
   "outputs": [
    {
     "data": {
      "text/plain": [
       "New York, Jersey City, White Plains - NY, NJ    64380\n",
       "Nassau County, Suffolk County - NY              33487\n",
       "Rochester - NY                                  14276\n",
       "Buffalo, Cheektowaga, Niagara Falls - NY        12322\n",
       "Albany, Schenectady, Troy - NY                  11813\n",
       "Syracuse - NY                                    8067\n",
       "Dutchess County, Putnam County - NY              4219\n",
       "Utica, Rome - NY                                 3364\n",
       "Name: msamd_name, dtype: int64"
      ]
     },
     "execution_count": 102,
     "metadata": {},
     "output_type": "execute_result"
    }
   ],
   "source": [
    "df_credit_data['msamd_name'].value_counts().head(8)"
   ]
  },
  {
   "cell_type": "markdown",
   "id": "3ea8baeb-fd3b-4432-8b16-af9ca69f3f08",
   "metadata": {},
   "source": [
    "## Denial Reason 1, 2, 3 \n",
    "könnte evtl intelligent zusammen gefasst / reformuliert werden zu 9 binären Vars"
   ]
  },
  {
   "cell_type": "code",
   "execution_count": 103,
   "id": "ba51de03-5f16-4ba7-81ad-99538bf4c008",
   "metadata": {},
   "outputs": [
    {
     "data": {
      "text/plain": [
       "Debt-to-income ratio                              6402\n",
       "Credit history                                    5544\n",
       "Collateral                                        4524\n",
       "Credit application incomplete                     2855\n",
       "Other                                             2068\n",
       "Unverifiable information                           804\n",
       "Insufficient cash (downpayment, closing costs)     559\n",
       "Employment history                                 260\n",
       "Mortgage insurance denied                           51\n",
       "Name: denial_reason_name_1, dtype: int64"
      ]
     },
     "execution_count": 103,
     "metadata": {},
     "output_type": "execute_result"
    }
   ],
   "source": [
    "df_credit_data['denial_reason_name_1'].value_counts()"
   ]
  },
  {
   "cell_type": "code",
   "execution_count": 104,
   "id": "f8bd03f6-9cbc-4240-98d4-41a9ec78ecfb",
   "metadata": {},
   "outputs": [
    {
     "data": {
      "text/plain": [
       "Credit history                                    1115\n",
       "Debt-to-income ratio                               935\n",
       "Other                                              761\n",
       "Collateral                                         537\n",
       "Insufficient cash (downpayment, closing costs)     513\n",
       "Unverifiable information                           332\n",
       "Credit application incomplete                      228\n",
       "Employment history                                 203\n",
       "Mortgage insurance denied                           26\n",
       "Name: denial_reason_name_2, dtype: int64"
      ]
     },
     "execution_count": 104,
     "metadata": {},
     "output_type": "execute_result"
    }
   ],
   "source": [
    "df_credit_data['denial_reason_name_2'].value_counts()"
   ]
  },
  {
   "cell_type": "code",
   "execution_count": 105,
   "id": "806d26a8-02b2-4585-b24f-c72668f836b8",
   "metadata": {},
   "outputs": [
    {
     "data": {
      "text/plain": [
       "Other                                             271\n",
       "Credit history                                    166\n",
       "Debt-to-income ratio                              134\n",
       "Insufficient cash (downpayment, closing costs)    117\n",
       "Collateral                                        113\n",
       "Unverifiable information                           64\n",
       "Credit application incomplete                      34\n",
       "Employment history                                 16\n",
       "Mortgage insurance denied                           5\n",
       "Name: denial_reason_name_3, dtype: int64"
      ]
     },
     "execution_count": 105,
     "metadata": {},
     "output_type": "execute_result"
    }
   ],
   "source": [
    "df_credit_data['denial_reason_name_3'].value_counts()"
   ]
  },
  {
   "cell_type": "markdown",
   "id": "822667d0-3521-4d7e-9b0e-7d3725477d84",
   "metadata": {},
   "source": [
    "## kreditbezogene Variablen"
   ]
  },
  {
   "cell_type": "code",
   "execution_count": 106,
   "id": "85226412-3e76-4098-b346-df59fd6486a0",
   "metadata": {},
   "outputs": [
    {
     "data": {
      "text/plain": [
       "0"
      ]
     },
     "execution_count": 106,
     "metadata": {},
     "output_type": "execute_result"
    }
   ],
   "source": [
    "df_credit_data['loan_purpose_name'].isna().sum()"
   ]
  },
  {
   "cell_type": "code",
   "execution_count": 107,
   "id": "f3dcc8eb-70c6-4686-9f32-1d80f62cfcf7",
   "metadata": {},
   "outputs": [
    {
     "data": {
      "text/plain": [
       "Home purchase       87947\n",
       "Refinancing         69411\n",
       "Home improvement    18504\n",
       "Name: loan_purpose_name, dtype: int64"
      ]
     },
     "execution_count": 107,
     "metadata": {},
     "output_type": "execute_result"
    }
   ],
   "source": [
    "df_credit_data['loan_purpose_name'].value_counts()"
   ]
  },
  {
   "cell_type": "code",
   "execution_count": 108,
   "id": "7b1040d6-382d-4fba-8709-94298f0f4315",
   "metadata": {},
   "outputs": [
    {
     "data": {
      "text/plain": [
       "10     1839\n",
       "417    1820\n",
       "100    1690\n",
       "200    1548\n",
       "300    1400\n",
       "5      1337\n",
       "50     1247\n",
       "150    1235\n",
       "Name: loan_amount_000s, dtype: int64"
      ]
     },
     "execution_count": 108,
     "metadata": {},
     "output_type": "execute_result"
    }
   ],
   "source": [
    "df_credit_data['loan_amount_000s'].value_counts().head(8)"
   ]
  },
  {
   "cell_type": "code",
   "execution_count": 109,
   "id": "1fa5ed47-236f-454b-9e68-e2597bf5eb8b",
   "metadata": {},
   "outputs": [
    {
     "data": {
      "text/plain": [
       "1"
      ]
     },
     "execution_count": 109,
     "metadata": {},
     "output_type": "execute_result"
    }
   ],
   "source": [
    "min(set(df_credit_data['loan_amount_000s']))"
   ]
  },
  {
   "cell_type": "code",
   "execution_count": 110,
   "id": "48c6db71-4776-4a92-8585-63376d315881",
   "metadata": {},
   "outputs": [
    {
     "data": {
      "text/plain": [
       "99999"
      ]
     },
     "execution_count": 110,
     "metadata": {},
     "output_type": "execute_result"
    }
   ],
   "source": [
    "max(set(df_credit_data['loan_amount_000s']))"
   ]
  },
  {
   "cell_type": "code",
   "execution_count": 111,
   "id": "dde2dc1b-590e-457f-a2c9-72d9e6673915",
   "metadata": {},
   "outputs": [
    {
     "data": {
      "text/plain": [
       "Conventional          134915\n",
       "FHA-insured            32608\n",
       "VA-guaranteed           6809\n",
       "FSA/RHS-guaranteed      1530\n",
       "Name: loan_type_name, dtype: int64"
      ]
     },
     "execution_count": 111,
     "metadata": {},
     "output_type": "execute_result"
    }
   ],
   "source": [
    "df_credit_data['loan_type_name'].value_counts()"
   ]
  },
  {
   "cell_type": "code",
   "execution_count": 112,
   "id": "f67f94ab-9ae6-4e33-a8d1-bdfd30d580bd",
   "metadata": {},
   "outputs": [
    {
     "data": {
      "text/plain": [
       "Not a HOEPA loan    175835\n",
       "HOEPA loan              27\n",
       "Name: hoepa_status_name, dtype: int64"
      ]
     },
     "execution_count": 112,
     "metadata": {},
     "output_type": "execute_result"
    }
   ],
   "source": [
    "df_credit_data['hoepa_status_name'].value_counts()"
   ]
  },
  {
   "cell_type": "code",
   "execution_count": 113,
   "id": "8f27fb6f-d59b-467e-8d11-8d0c0b7a6dcf",
   "metadata": {},
   "outputs": [
    {
     "data": {
      "text/plain": [
       "Secured by a first lien          136068\n",
       "Not applicable                    24682\n",
       "Not secured by a lien              9442\n",
       "Secured by a subordinate lien      5670\n",
       "Name: lien_status_name, dtype: int64"
      ]
     },
     "execution_count": 113,
     "metadata": {},
     "output_type": "execute_result"
    }
   ],
   "source": [
    "df_credit_data['lien_status_name'].value_counts()"
   ]
  },
  {
   "cell_type": "code",
   "execution_count": 114,
   "id": "721c79cb-bba9-439e-be8c-ddb417e95c6a",
   "metadata": {},
   "outputs": [
    {
     "data": {
      "text/plain": [
       "Owner-occupied as a principal dwelling        156700\n",
       "Not owner-occupied as a principal dwelling     16775\n",
       "Not applicable                                  2387\n",
       "Name: owner_occupancy_name, dtype: int64"
      ]
     },
     "execution_count": 114,
     "metadata": {},
     "output_type": "execute_result"
    }
   ],
   "source": [
    "df_credit_data['owner_occupancy_name'].value_counts()"
   ]
  },
  {
   "cell_type": "code",
   "execution_count": 115,
   "id": "1274bbe8-8ef2-4a9c-b94d-53021e8fae73",
   "metadata": {},
   "outputs": [
    {
     "data": {
      "text/plain": [
       "Not applicable                   145900\n",
       "Preapproval was not requested     25744\n",
       "Preapproval was requested          4218\n",
       "Name: preapproval_name, dtype: int64"
      ]
     },
     "execution_count": 115,
     "metadata": {},
     "output_type": "execute_result"
    }
   ],
   "source": [
    "df_credit_data['preapproval_name'].value_counts()"
   ]
  },
  {
   "cell_type": "code",
   "execution_count": 116,
   "id": "300bb52d-2e12-43bb-a940-b3b212fb4713",
   "metadata": {},
   "outputs": [
    {
     "data": {
      "text/plain": [
       "One-to-four family dwelling (other than manufactured housing)    170677\n",
       "Manufactured housing                                               2932\n",
       "Multifamily dwelling                                               2253\n",
       "Name: property_type_name, dtype: int64"
      ]
     },
     "execution_count": 116,
     "metadata": {},
     "output_type": "execute_result"
    }
   ],
   "source": [
    "df_credit_data['property_type_name'].value_counts()"
   ]
  },
  {
   "cell_type": "code",
   "execution_count": 117,
   "id": "63b8efa4-67d1-4a66-b3d2-b2fc467e5b9e",
   "metadata": {},
   "outputs": [
    {
     "data": {
      "text/plain": [
       "Loan was not originated or was not sold in calendar year covered by register    102132\n",
       "Fannie Mae (FNMA)                                                                20170\n",
       "Ginnie Mae (GNMA)                                                                15995\n",
       "Freddie Mac (FHLMC)                                                              14789\n",
       "Commercial bank, savings bank or savings association                              7955\n",
       "Life insurance company, credit union, mortgage bank, or finance company           6144\n",
       "Other type of purchaser                                                           4529\n",
       "Affiliate institution                                                             3471\n",
       "Private securitization                                                             674\n",
       "Farmer Mac (FAMC)                                                                    3\n",
       "Name: purchaser_type_name, dtype: int64"
      ]
     },
     "execution_count": 117,
     "metadata": {},
     "output_type": "execute_result"
    }
   ],
   "source": [
    "df_credit_data['purchaser_type_name'].value_counts()"
   ]
  },
  {
   "cell_type": "markdown",
   "id": "2f86f6f6-da28-4a40-8ab5-de0d648bfcf9",
   "metadata": {},
   "source": [
    "## Einkommensverteilung\n",
    "zwischen 1k und 10Mio"
   ]
  },
  {
   "cell_type": "code",
   "execution_count": 118,
   "id": "7578cb89-d913-47c8-9264-c6ba74b7e6ab",
   "metadata": {},
   "outputs": [
    {
     "data": {
      "text/plain": [
       "24518"
      ]
     },
     "execution_count": 118,
     "metadata": {},
     "output_type": "execute_result"
    }
   ],
   "source": [
    "df_credit_data['applicant_income_000s'].isna().sum()"
   ]
  },
  {
   "cell_type": "code",
   "execution_count": 119,
   "id": "a4133d49-7527-425f-8bb0-a2195f428c16",
   "metadata": {},
   "outputs": [
    {
     "data": {
      "text/plain": [
       "(1.0, 9999.0)"
      ]
     },
     "execution_count": 119,
     "metadata": {},
     "output_type": "execute_result"
    }
   ],
   "source": [
    "df_credit_data['applicant_income_000s'].min(), df_credit_data['applicant_income_000s'].max()"
   ]
  },
  {
   "cell_type": "markdown",
   "id": "3db1e18d-0e25-4caf-b95d-6b7ab8b9a96e",
   "metadata": {},
   "source": [
    "ok, halbwegs gauss... \n",
    "peaks bei 5er Schritten: erwartbar"
   ]
  },
  {
   "cell_type": "code",
   "execution_count": 120,
   "id": "23e8a37c-67c6-4e33-882a-184ccbaa9ec3",
   "metadata": {},
   "outputs": [
    {
     "data": {
      "text/plain": [
       "<AxesSubplot:>"
      ]
     },
     "execution_count": 120,
     "metadata": {},
     "output_type": "execute_result"
    },
    {
     "data": {
      "image/png": "[encoded data removed]",
      "text/plain": [
       "<Figure size 432x288 with 1 Axes>"
      ]
     },
     "metadata": {
      "needs_background": "light"
     },
     "output_type": "display_data"
    }
   ],
   "source": [
    "df_credit_data[df_credit_data['applicant_income_000s']<256]['applicant_income_000s'].hist(bins=255)"
   ]
  },
  {
   "cell_type": "markdown",
   "id": "4d92e2db-f341-425d-a097-0ef4c2dc17e4",
   "metadata": {},
   "source": [
    "look at this long tail! ;);)"
   ]
  },
  {
   "cell_type": "code",
   "execution_count": 121,
   "id": "a7df4de2-f3aa-454a-b9f5-9976c65c8ac6",
   "metadata": {},
   "outputs": [
    {
     "data": {
      "text/plain": [
       "<AxesSubplot:>"
      ]
     },
     "execution_count": 121,
     "metadata": {},
     "output_type": "execute_result"
    },
    {
     "data": {
      "image/png": "[encoded data removed]",
      "text/plain": [
       "<Figure size 432x288 with 1 Axes>"
      ]
     },
     "metadata": {
      "needs_background": "light"
     },
     "output_type": "display_data"
    }
   ],
   "source": [
    "df_credit_data[(df_credit_data['applicant_income_000s']>256) & (df_credit_data['applicant_income_000s']< 512)]['applicant_income_000s'].hist(bins=255)"
   ]
  },
  {
   "cell_type": "code",
   "execution_count": 122,
   "id": "c9d75d22-2f04-442f-80fc-0964e89f7f81",
   "metadata": {},
   "outputs": [
    {
     "data": {
      "text/plain": [
       "<AxesSubplot:>"
      ]
     },
     "execution_count": 122,
     "metadata": {},
     "output_type": "execute_result"
    },
    {
     "data": {
      "image/png": "[encoded data removed]",
      "text/plain": [
       "<Figure size 432x288 with 1 Axes>"
      ]
     },
     "metadata": {
      "needs_background": "light"
     },
     "output_type": "display_data"
    }
   ],
   "source": [
    "df_credit_data[df_credit_data['applicant_income_000s']>1024]['applicant_income_000s'].hist(bins=255)"
   ]
  },
  {
   "cell_type": "code",
   "execution_count": 123,
   "id": "1c5d41a3-1534-44b7-acef-ccd17c73ca2c",
   "metadata": {
    "tags": []
   },
   "outputs": [],
   "source": [
    "# due to time constraints no sep env and requirements @TODO: create env and requirements\n",
    "# ! pip3 install ipympl \n",
    "# index, values = df_credit_data['applicant_income_000s'].value_counts()[:10].index, df_credit_data['applicant_income_000s'].value_counts()[:10].values\n",
    "# %matplotlib widget\n",
    "# fig = plt.figure()\n",
    "# ax = fig.add_axes([0,0,1,1])\n",
    "# ax.bar(index, values)\n",
    "# plt.bar(index, values)"
   ]
  },
  {
   "cell_type": "markdown",
   "id": "ca1b4f1f-fb61-4676-bb61-fd9723b6a306",
   "metadata": {},
   "source": [
    "## hud_median_family_income\n",
    "liegt zwischen 57k und 109k"
   ]
  },
  {
   "cell_type": "code",
   "execution_count": 124,
   "id": "073ff743-021c-4faa-b639-8866a1b07e1d",
   "metadata": {},
   "outputs": [
    {
     "data": {
      "text/plain": [
       "(57200.0, 109000.0)"
      ]
     },
     "execution_count": 124,
     "metadata": {},
     "output_type": "execute_result"
    }
   ],
   "source": [
    "df_credit_data['hud_median_family_income'].min(), df_credit_data['hud_median_family_income'].max()"
   ]
  },
  {
   "cell_type": "code",
   "execution_count": 125,
   "id": "af529d6a-1d10-4867-bfa1-8bad0c3c8fc6",
   "metadata": {},
   "outputs": [
    {
     "data": {
      "text/plain": [
       "<AxesSubplot:>"
      ]
     },
     "execution_count": 125,
     "metadata": {},
     "output_type": "execute_result"
    },
    {
     "data": {
      "image/png": "[encoded data removed]",
      "text/plain": [
       "<Figure size 432x288 with 1 Axes>"
      ]
     },
     "metadata": {
      "needs_background": "light"
     },
     "output_type": "display_data"
    }
   ],
   "source": [
    "df_credit_data['hud_median_family_income'].hist(bins = 32)"
   ]
  },
  {
   "cell_type": "code",
   "execution_count": 126,
   "id": "41c0eb83-c0b6-4704-a0ca-e8688ab4078c",
   "metadata": {},
   "outputs": [
    {
     "data": {
      "text/plain": [
       "684"
      ]
     },
     "execution_count": 126,
     "metadata": {},
     "output_type": "execute_result"
    }
   ],
   "source": [
    "df_credit_data['hud_median_family_income'].isna().sum()"
   ]
  },
  {
   "cell_type": "markdown",
   "id": "3a36a3f0-de8e-4365-bac5-069a48aca904",
   "metadata": {},
   "source": [
    "## Höhe des Kredites"
   ]
  },
  {
   "cell_type": "code",
   "execution_count": 127,
   "id": "81548d71-1a79-4b43-aff7-93acc38c6b41",
   "metadata": {},
   "outputs": [
    {
     "data": {
      "text/plain": [
       "(1, 99999)"
      ]
     },
     "execution_count": 127,
     "metadata": {},
     "output_type": "execute_result"
    }
   ],
   "source": [
    "df_credit_data['loan_amount_000s'].min(), df_credit_data['loan_amount_000s'].max()"
   ]
  },
  {
   "cell_type": "code",
   "execution_count": 128,
   "id": "4081e520-154a-44ba-89c9-fc81294dd048",
   "metadata": {},
   "outputs": [
    {
     "data": {
      "text/plain": [
       "<AxesSubplot:>"
      ]
     },
     "execution_count": 128,
     "metadata": {},
     "output_type": "execute_result"
    },
    {
     "data": {
      "image/png": "[encoded data removed]",
      "text/plain": [
       "<Figure size 432x288 with 1 Axes>"
      ]
     },
     "metadata": {
      "needs_background": "light"
     },
     "output_type": "display_data"
    }
   ],
   "source": [
    "df_credit_data[df_credit_data['loan_amount_000s']< 1000]['loan_amount_000s'].hist(bins = 64)"
   ]
  },
  {
   "cell_type": "code",
   "execution_count": 129,
   "id": "e46517d7-f290-4073-9d50-dfbe70f3ee27",
   "metadata": {},
   "outputs": [
    {
     "data": {
      "text/plain": [
       "0"
      ]
     },
     "execution_count": 129,
     "metadata": {},
     "output_type": "execute_result"
    }
   ],
   "source": [
    "df_credit_data['loan_amount_000s'].isna().sum()"
   ]
  },
  {
   "cell_type": "markdown",
   "id": "39446622-710f-40ec-a580-510b355c9795",
   "metadata": {},
   "source": [
    "## number_of_1_to_4_family_units"
   ]
  },
  {
   "cell_type": "code",
   "execution_count": 130,
   "id": "25cef825-9b47-4e0c-9cc2-ab723960e2ec",
   "metadata": {},
   "outputs": [
    {
     "data": {
      "text/plain": [
       "<AxesSubplot:>"
      ]
     },
     "execution_count": 130,
     "metadata": {},
     "output_type": "execute_result"
    },
    {
     "data": {
      "image/png": "[encoded data removed]",
      "text/plain": [
       "<Figure size 432x288 with 1 Axes>"
      ]
     },
     "metadata": {
      "needs_background": "light"
     },
     "output_type": "display_data"
    }
   ],
   "source": [
    "df_credit_data['number_of_1_to_4_family_units'].hist(bins=32)"
   ]
  },
  {
   "cell_type": "code",
   "execution_count": 131,
   "id": "97cee514-cd11-4229-b2f7-9a208f606bd5",
   "metadata": {},
   "outputs": [
    {
     "data": {
      "text/plain": [
       "911"
      ]
     },
     "execution_count": 131,
     "metadata": {},
     "output_type": "execute_result"
    }
   ],
   "source": [
    "df_credit_data['number_of_1_to_4_family_units'].isna().sum()"
   ]
  },
  {
   "cell_type": "markdown",
   "id": "446ad458-eac7-494a-922b-a03081779b98",
   "metadata": {
    "tags": []
   },
   "source": [
    "## msamd"
   ]
  },
  {
   "cell_type": "code",
   "execution_count": 132,
   "id": "d5976e8d-7d6d-4960-934f-6a51bc0e093d",
   "metadata": {},
   "outputs": [
    {
     "data": {
      "text/plain": [
       "New York, Jersey City, White Plains - NY, NJ    64380\n",
       "Nassau County, Suffolk County - NY              33487\n",
       "Rochester - NY                                  14276\n",
       "Buffalo, Cheektowaga, Niagara Falls - NY        12322\n",
       "Albany, Schenectady, Troy - NY                  11813\n",
       "Syracuse - NY                                    8067\n",
       "Dutchess County, Putnam County - NY              4219\n",
       "Utica, Rome - NY                                 3364\n",
       "Name: msamd_name, dtype: int64"
      ]
     },
     "execution_count": 132,
     "metadata": {},
     "output_type": "execute_result"
    }
   ],
   "source": [
    "df_credit_data['msamd_name'].value_counts().head(8)"
   ]
  },
  {
   "cell_type": "code",
   "execution_count": 133,
   "id": "67103605-95e5-4b26-8980-7c5dd0794cf3",
   "metadata": {},
   "outputs": [
    {
     "data": {
      "text/plain": [
       "14642"
      ]
     },
     "execution_count": 133,
     "metadata": {},
     "output_type": "execute_result"
    }
   ],
   "source": [
    "df_credit_data['msamd_name'].isna().sum()"
   ]
  },
  {
   "cell_type": "markdown",
   "id": "cfa1c345-25fc-484a-83b7-c0ae71d6c6ed",
   "metadata": {},
   "source": [
    "## number_of_owner_occupied_units"
   ]
  },
  {
   "cell_type": "code",
   "execution_count": 134,
   "id": "aabfab5f-38d3-4b31-a3bc-38e9204de641",
   "metadata": {},
   "outputs": [
    {
     "data": {
      "text/plain": [
       "<AxesSubplot:>"
      ]
     },
     "execution_count": 134,
     "metadata": {},
     "output_type": "execute_result"
    },
    {
     "data": {
      "image/png": "[encoded data removed]",
      "text/plain": [
       "<Figure size 432x288 with 1 Axes>"
      ]
     },
     "metadata": {
      "needs_background": "light"
     },
     "output_type": "display_data"
    }
   ],
   "source": [
    "df_credit_data['number_of_1_to_4_family_units'].hist(bins=32)"
   ]
  },
  {
   "cell_type": "code",
   "execution_count": 135,
   "id": "7854a8e2-7f69-4b8c-9f1b-c7db0eb861c9",
   "metadata": {},
   "outputs": [
    {
     "data": {
      "text/plain": [
       "842"
      ]
     },
     "execution_count": 135,
     "metadata": {},
     "output_type": "execute_result"
    }
   ],
   "source": [
    "df_credit_data['number_of_owner_occupied_units'].isna().sum()"
   ]
  },
  {
   "cell_type": "markdown",
   "id": "dbdb0571-7287-48a7-80b5-ca612bbea8e3",
   "metadata": {},
   "source": [
    "## minority_population"
   ]
  },
  {
   "cell_type": "code",
   "execution_count": 136,
   "id": "a741900b-1c01-4c52-9d55-efc1ea14dcd3",
   "metadata": {},
   "outputs": [
    {
     "data": {
      "text/plain": [
       "<AxesSubplot:>"
      ]
     },
     "execution_count": 136,
     "metadata": {},
     "output_type": "execute_result"
    },
    {
     "data": {
      "image/png": "[encoded data removed]",
      "text/plain": [
       "<Figure size 432x288 with 1 Axes>"
      ]
     },
     "metadata": {
      "needs_background": "light"
     },
     "output_type": "display_data"
    }
   ],
   "source": [
    "df_credit_data['minority_population'].hist(bins=64)"
   ]
  },
  {
   "cell_type": "code",
   "execution_count": 137,
   "id": "fbf0c9af-2583-4c16-8d29-4a08e9358414",
   "metadata": {},
   "outputs": [
    {
     "data": {
      "text/plain": [
       "696"
      ]
     },
     "execution_count": 137,
     "metadata": {},
     "output_type": "execute_result"
    }
   ],
   "source": [
    "df_credit_data['minority_population'].isna().sum()"
   ]
  },
  {
   "cell_type": "markdown",
   "id": "7b0ce5e8-7a14-4171-bced-cea94984799c",
   "metadata": {},
   "source": [
    "## population"
   ]
  },
  {
   "cell_type": "code",
   "execution_count": 138,
   "id": "84077242-9ea4-4221-9096-67691d07a5ae",
   "metadata": {},
   "outputs": [
    {
     "data": {
      "text/plain": [
       "<AxesSubplot:>"
      ]
     },
     "execution_count": 138,
     "metadata": {},
     "output_type": "execute_result"
    },
    {
     "data": {
      "image/png": "[encoded data removed]",
      "text/plain": [
       "<Figure size 432x288 with 1 Axes>"
      ]
     },
     "metadata": {
      "needs_background": "light"
     },
     "output_type": "display_data"
    }
   ],
   "source": [
    "df_credit_data['population'].hist(bins=64)"
   ]
  },
  {
   "cell_type": "code",
   "execution_count": null,
   "id": "a812814c-5c50-42a1-ae89-dbee3afb51c7",
   "metadata": {},
   "outputs": [],
   "source": []
  },
  {
   "cell_type": "code",
   "execution_count": null,
   "id": "1184282d-e5c1-4b79-9eb6-b1d2280f8fb7",
   "metadata": {},
   "outputs": [],
   "source": []
  },
  {
   "cell_type": "markdown",
   "id": "2459a691-c0f6-4227-b3ab-02fa8ecd9d59",
   "metadata": {},
   "source": [
    "# Zusammenfassung einzelne Variablen\n",
    "## Dimensionen teilen sich auf, in \n",
    "### 0. nicht 100 inhaltlich klar\n",
    "loan_type_name - Versicherung (des Kredits?) e.g. \"FHA-insured\" = Federal Housing Administration => sollte inhaltlich geklärt und in Runde 2 mal getestet werden\n",
    "hoepa_status_name - 175k mal HOEPA, nur 27 mal nicht => kann ignoriert werden  \n",
    "** lien_status_name - Pfand / Bürge? 136k mal \"first lien\", 24k mal Not Applicable, 9k mal \"not secured by a lien\" => könnte interessant sein\n",
    "\n",
    "### 1. \"sehr problematische\" persönliche merkmale: \n",
    "applicant_ethnicity_name, applicant_race_name_1, applicant_sex_name,  \n",
    "co_applicant_ethnicity_name, co_applicant_race_name_1, co_applicant_sex_name, \n",
    "\n",
    "### 2. \"weniger problematische\" kontext-Merkmale: \n",
    "county_name  \n",
    "msamd_name - unklar, wofür msamd steht, aber sind ortsbezeichnungen (e.g. NY, Buffalo etc)  \n",
    "number_of_1_to_4_family_units - zwischen 0 und 3k, gaussig, nur 900 fehlen   \n",
    "number_of_owner_occupied_units - zwischen 0 und 3k, long Tail nur 900 fehlen  \n",
    "** minority_population - bimodal, zwei deutliche Peaks bei 0 und 100, 700 fehlen. Natürlich problematisch aber wegen Verteilung sehr interessant \n",
    "population - Gauss um die 500  \n",
    "** hud_median_family_income - nur ca 600 fehlend, untypische Verteilung zwischen 50 und 109k\n",
    "\n",
    "### 3. prozessbezogene Merkmale:\n",
    "agency_name - Welche Behörde / Büro? 6 fairly balanced values  \n",
    "preapproval_name - wurde vorprüfung angefragt? 150k mal \"not applicable\" => sehr unbalanciert, eher nicht nehmen  \n",
    "purchaser_type_name - z.B. \"Fannie Mae\", Lebensversicherung, Affiliate. Nur ca 1/3 vorhanden. Dennoch potentiell interessant.  \n",
    "\n",
    "### 4. Immobilienbezogene Merkmale:\n",
    "owner_occupancy_name - hauptwohnsitz oder nicht? unbalanciert (160k vs 16k)  \n",
    "property_type_name - Multifamily, Manufactured oder 1-4 Family. 171k mal \"One-to-four family dwelling\"  => unbalanciert\n",
    "\n",
    "### 5. intuitiv hauptkriterien: Kredithöhe und Einkommen des Antragsstellers\n",
    "** loan_amount_000s - gefragte Summe. meist zwischen 5 und 500k. muss noch intelligent bucketisiert werden, (outlier!)  , , keine NAs  \n",
    "** loan_purpose_name - Hauskauf, Hausrenovierung, Refinanzierung  , keine NAs\n",
    "** applicant_income_000s - schräge Gauss um die 60k mit langem long tail, hat 14% missing values\n",
    "\n",
    "### 6. Zielvariable(n)\n",
    "action_taken_name (Zielvariable?)  \n",
    "** denial_reason_name_1, denial_reason_name_2, denial_reason_name_3 => meistens nicht vorhanden, selbe Menge von 9 Kriterien  \n",
    "\n",
    "\n",
    "### 7. Welche Variablen Fehlen mir?\n",
    "Zeitpunkt des Abschlusses\n",
    "- Jahr / Monat => Entwicklung des Trends (Beispielsweise: Inflation / Rezession usw)\n",
    "- Monat / Woche / Wochentag => Saisonale Entwicklungen (Beispielsweise \"Nach Weihnachten haben die Leute weniger Cash und investieren defensiver\")\n",
    "- Tageszeit => Cirkadische Effekte (Beispielsweise \"Abends sind die Kunden Abschlussfreudiger\")"
   ]
  },
  {
   "cell_type": "markdown",
   "id": "84303dc1-becd-4546-99d9-59ccbea744b0",
   "metadata": {},
   "source": [
    "## Zielvariable"
   ]
  },
  {
   "cell_type": "code",
   "execution_count": 139,
   "id": "c289f161-c537-485b-891a-9a8b5c52cac9",
   "metadata": {},
   "outputs": [
    {
     "data": {
      "text/plain": [
       "0"
      ]
     },
     "execution_count": 139,
     "metadata": {},
     "output_type": "execute_result"
    }
   ],
   "source": [
    "df_credit_data['action_taken_name'].value_counts().isna().sum()"
   ]
  },
  {
   "cell_type": "code",
   "execution_count": 140,
   "id": "d49203ae-63be-4128-945f-06b80a4ce091",
   "metadata": {},
   "outputs": [
    {
     "data": {
      "text/plain": [
       "Loan originated                                        90982\n",
       "Application denied by financial institution            32005\n",
       "Loan purchased by the institution                      24682\n",
       "Application withdrawn by applicant                     15765\n",
       "File closed for incompleteness                          6682\n",
       "Application approved but not accepted                   5743\n",
       "Preapproval request denied by financial institution        3\n",
       "Name: action_taken_name, dtype: int64"
      ]
     },
     "execution_count": 140,
     "metadata": {},
     "output_type": "execute_result"
    }
   ],
   "source": [
    "df_credit_data['action_taken_name'].value_counts()"
   ]
  },
  {
   "cell_type": "markdown",
   "id": "a6719f78-8003-435f-bca2-ca7f878a6ccc",
   "metadata": {},
   "source": [
    "# Feature selection\n",
    "var 1: manual / by intuition / information (for baseline model)  \n",
    "var 2: RFE (recursive Feature Elimination) https://scikit-learn.org/stable/modules/generated/sklearn.feature_selection.RFE.html  \n",
    "var 3: sklearn.feature_selection.SelectKBest  \n",
    "uswusw"
   ]
  },
  {
   "cell_type": "markdown",
   "id": "a87413c5-349f-45e5-9d04-1769734ea368",
   "metadata": {},
   "source": [
    "# prepare minimal dataset"
   ]
  },
  {
   "cell_type": "markdown",
   "id": "3c2f99b4-5b55-4dee-8c4c-a6b113d7137a",
   "metadata": {},
   "source": [
    "## select features"
   ]
  },
  {
   "cell_type": "code",
   "execution_count": 267,
   "id": "5bfa29e8-c573-4dc0-91a4-8b3d0b22c2ca",
   "metadata": {},
   "outputs": [
    {
     "data": {
      "text/html": [
       "<div>\n",
       "<style scoped>\n",
       "    .dataframe tbody tr th:only-of-type {\n",
       "        vertical-align: middle;\n",
       "    }\n",
       "\n",
       "    .dataframe tbody tr th {\n",
       "        vertical-align: top;\n",
       "    }\n",
       "\n",
       "    .dataframe thead th {\n",
       "        text-align: right;\n",
       "    }\n",
       "</style>\n",
       "<table border=\"1\" class=\"dataframe\">\n",
       "  <thead>\n",
       "    <tr style=\"text-align: right;\">\n",
       "      <th></th>\n",
       "      <th>action_taken_name</th>\n",
       "      <th>agency_name</th>\n",
       "      <th>applicant_income_000s</th>\n",
       "      <th>co_applicant_ethnicity_name</th>\n",
       "      <th>co_applicant_race_name_1</th>\n",
       "      <th>co_applicant_sex_name</th>\n",
       "      <th>county_name</th>\n",
       "      <th>denial_reason_name_1</th>\n",
       "      <th>denial_reason_name_2</th>\n",
       "      <th>denial_reason_name_3</th>\n",
       "      <th>...</th>\n",
       "      <th>applicant_race_name_1_American Indian or Alaska Native</th>\n",
       "      <th>applicant_race_name_1_Asian</th>\n",
       "      <th>applicant_race_name_1_Black or African American</th>\n",
       "      <th>applicant_race_name_1_Information not provided by applicant in mail, Internet, or telephone application</th>\n",
       "      <th>applicant_race_name_1_Native Hawaiian or Other Pacific Islander</th>\n",
       "      <th>applicant_race_name_1_Not applicable</th>\n",
       "      <th>applicant_race_name_1_White</th>\n",
       "      <th>loan_purpose_name_Home improvement</th>\n",
       "      <th>loan_purpose_name_Home purchase</th>\n",
       "      <th>loan_purpose_name_Refinancing</th>\n",
       "    </tr>\n",
       "  </thead>\n",
       "  <tbody>\n",
       "    <tr>\n",
       "      <th>0</th>\n",
       "      <td>Application denied by financial institution</td>\n",
       "      <td>Consumer Financial Protection Bureau</td>\n",
       "      <td>176.0</td>\n",
       "      <td>No co-applicant</td>\n",
       "      <td>No co-applicant</td>\n",
       "      <td>No co-applicant</td>\n",
       "      <td>Chautauqua County</td>\n",
       "      <td>Collateral</td>\n",
       "      <td>NaN</td>\n",
       "      <td>NaN</td>\n",
       "      <td>...</td>\n",
       "      <td>0</td>\n",
       "      <td>0</td>\n",
       "      <td>0</td>\n",
       "      <td>0</td>\n",
       "      <td>0</td>\n",
       "      <td>0</td>\n",
       "      <td>1</td>\n",
       "      <td>0</td>\n",
       "      <td>0</td>\n",
       "      <td>1</td>\n",
       "    </tr>\n",
       "    <tr>\n",
       "      <th>1</th>\n",
       "      <td>Application withdrawn by applicant</td>\n",
       "      <td>Department of Housing and Urban Development</td>\n",
       "      <td>53.0</td>\n",
       "      <td>No co-applicant</td>\n",
       "      <td>No co-applicant</td>\n",
       "      <td>No co-applicant</td>\n",
       "      <td>Erie County</td>\n",
       "      <td>NaN</td>\n",
       "      <td>NaN</td>\n",
       "      <td>NaN</td>\n",
       "      <td>...</td>\n",
       "      <td>0</td>\n",
       "      <td>0</td>\n",
       "      <td>0</td>\n",
       "      <td>0</td>\n",
       "      <td>0</td>\n",
       "      <td>0</td>\n",
       "      <td>1</td>\n",
       "      <td>0</td>\n",
       "      <td>1</td>\n",
       "      <td>0</td>\n",
       "    </tr>\n",
       "  </tbody>\n",
       "</table>\n",
       "<p>2 rows × 42 columns</p>\n",
       "</div>"
      ],
      "text/plain": [
       "                             action_taken_name  \\\n",
       "0  Application denied by financial institution   \n",
       "1           Application withdrawn by applicant   \n",
       "\n",
       "                                   agency_name  applicant_income_000s  \\\n",
       "0         Consumer Financial Protection Bureau                  176.0   \n",
       "1  Department of Housing and Urban Development                   53.0   \n",
       "\n",
       "  co_applicant_ethnicity_name co_applicant_race_name_1 co_applicant_sex_name  \\\n",
       "0             No co-applicant          No co-applicant       No co-applicant   \n",
       "1             No co-applicant          No co-applicant       No co-applicant   \n",
       "\n",
       "         county_name denial_reason_name_1 denial_reason_name_2  \\\n",
       "0  Chautauqua County           Collateral                  NaN   \n",
       "1        Erie County                  NaN                  NaN   \n",
       "\n",
       "  denial_reason_name_3  ...  \\\n",
       "0                  NaN  ...   \n",
       "1                  NaN  ...   \n",
       "\n",
       "  applicant_race_name_1_American Indian or Alaska Native  \\\n",
       "0                                                  0       \n",
       "1                                                  0       \n",
       "\n",
       "  applicant_race_name_1_Asian applicant_race_name_1_Black or African American  \\\n",
       "0                           0                                               0   \n",
       "1                           0                                               0   \n",
       "\n",
       "  applicant_race_name_1_Information not provided by applicant in mail, Internet, or telephone application  \\\n",
       "0                                                  0                                                        \n",
       "1                                                  0                                                        \n",
       "\n",
       "  applicant_race_name_1_Native Hawaiian or Other Pacific Islander  \\\n",
       "0                                                  0                \n",
       "1                                                  0                \n",
       "\n",
       "  applicant_race_name_1_Not applicable applicant_race_name_1_White  \\\n",
       "0                                    0                           1   \n",
       "1                                    0                           1   \n",
       "\n",
       "  loan_purpose_name_Home improvement  loan_purpose_name_Home purchase  \\\n",
       "0                                  0                                0   \n",
       "1                                  0                                1   \n",
       "\n",
       "   loan_purpose_name_Refinancing  \n",
       "0                              1  \n",
       "1                              0  \n",
       "\n",
       "[2 rows x 42 columns]"
      ]
     },
     "execution_count": 267,
     "metadata": {},
     "output_type": "execute_result"
    }
   ],
   "source": [
    "df_with_dummies = pd.get_dummies(df_credit_data, columns=['applicant_sex_name', 'applicant_ethnicity_name', 'applicant_race_name_1', 'loan_purpose_name'])# loan_purpose_name\n",
    "df_with_dummies.head(2)"
   ]
  },
  {
   "cell_type": "code",
   "execution_count": 268,
   "id": "ae1abb9c-ad10-4bfa-8155-9b01c65aac8a",
   "metadata": {},
   "outputs": [
    {
     "data": {
      "text/plain": [
       "Index(['action_taken_name', 'agency_name', 'applicant_income_000s',\n",
       "       'co_applicant_ethnicity_name', 'co_applicant_race_name_1',\n",
       "       'co_applicant_sex_name', 'county_name', 'denial_reason_name_1',\n",
       "       'denial_reason_name_2', 'denial_reason_name_3', 'hoepa_status_name',\n",
       "       'lien_status_name', 'loan_type_name', 'msamd_name',\n",
       "       'owner_occupancy_name', 'preapproval_name', 'property_type_name',\n",
       "       'purchaser_type_name', 'hud_median_family_income', 'loan_amount_000s',\n",
       "       'number_of_1_to_4_family_units', 'number_of_owner_occupied_units',\n",
       "       'minority_population', 'population', 'applicant_sex_name_Female',\n",
       "       'applicant_sex_name_Information not provided by applicant in mail, Internet, or telephone application',\n",
       "       'applicant_sex_name_Male', 'applicant_sex_name_Not applicable',\n",
       "       'applicant_ethnicity_name_Hispanic or Latino',\n",
       "       'applicant_ethnicity_name_Information not provided by applicant in mail, Internet, or telephone application',\n",
       "       'applicant_ethnicity_name_Not Hispanic or Latino',\n",
       "       'applicant_ethnicity_name_Not applicable',\n",
       "       'applicant_race_name_1_American Indian or Alaska Native',\n",
       "       'applicant_race_name_1_Asian',\n",
       "       'applicant_race_name_1_Black or African American',\n",
       "       'applicant_race_name_1_Information not provided by applicant in mail, Internet, or telephone application',\n",
       "       'applicant_race_name_1_Native Hawaiian or Other Pacific Islander',\n",
       "       'applicant_race_name_1_Not applicable', 'applicant_race_name_1_White',\n",
       "       'loan_purpose_name_Home improvement', 'loan_purpose_name_Home purchase',\n",
       "       'loan_purpose_name_Refinancing'],\n",
       "      dtype='object')"
      ]
     },
     "execution_count": 268,
     "metadata": {},
     "output_type": "execute_result"
    }
   ],
   "source": [
    "df_with_dummies.columns"
   ]
  },
  {
   "cell_type": "code",
   "execution_count": 269,
   "id": "87e5e77d-7a4a-4ea7-a477-d667ca67af3c",
   "metadata": {},
   "outputs": [],
   "source": [
    "selected_features = ['action_taken_name', 'applicant_income_000s', 'loan_amount_000s', 'hud_median_family_income', 'loan_purpose_name_Home improvement', 'loan_purpose_name_Home purchase',\n",
    "       'loan_purpose_name_Refinancing']"
   ]
  },
  {
   "cell_type": "code",
   "execution_count": 270,
   "id": "6f88aa3f-4c9f-4b2a-8781-f37f972756ec",
   "metadata": {},
   "outputs": [
    {
     "data": {
      "text/plain": [
       "\"selected_features = selected_features + ['applicant_sex_name_Female',\\n       #'applicant_sex_name_Information not provided by applicant in mail, Internet, or telephone application',\\n       'applicant_sex_name_Male', \\n      #'applicant_sex_name_Not applicable',\\n       'applicant_ethnicity_name_Hispanic or Latino',\\n       #'applicant_ethnicity_name_Information not provided by applicant in mail, Internet, or telephone application',\\n       'applicant_ethnicity_name_Not Hispanic or Latino',\\n       #'applicant_ethnicity_name_Not applicable',\\n       'applicant_race_name_1_American Indian or Alaska Native',\\n       'applicant_race_name_1_Asian',\\n       'applicant_race_name_1_Black or African American',\\n       #'applicant_race_name_1_Information not provided by applicant in mail, Internet, or telephone application',\\n       'applicant_race_name_1_Native Hawaiian or Other Pacific Islander',\\n       #'applicant_race_name_1_Not applicable', \\n        'applicant_race_name_1_White']\""
      ]
     },
     "execution_count": 270,
     "metadata": {},
     "output_type": "execute_result"
    }
   ],
   "source": [
    "\"\"\"selected_features = selected_features + ['applicant_sex_name_Female',\n",
    "       #'applicant_sex_name_Information not provided by applicant in mail, Internet, or telephone application',\n",
    "       'applicant_sex_name_Male', \n",
    "      #'applicant_sex_name_Not applicable',\n",
    "       'applicant_ethnicity_name_Hispanic or Latino',\n",
    "       #'applicant_ethnicity_name_Information not provided by applicant in mail, Internet, or telephone application',\n",
    "       'applicant_ethnicity_name_Not Hispanic or Latino',\n",
    "       #'applicant_ethnicity_name_Not applicable',\n",
    "       'applicant_race_name_1_American Indian or Alaska Native',\n",
    "       'applicant_race_name_1_Asian',\n",
    "       'applicant_race_name_1_Black or African American',\n",
    "       #'applicant_race_name_1_Information not provided by applicant in mail, Internet, or telephone application',\n",
    "       'applicant_race_name_1_Native Hawaiian or Other Pacific Islander',\n",
    "       #'applicant_race_name_1_Not applicable', \n",
    "        'applicant_race_name_1_White']\"\"\""
   ]
  },
  {
   "cell_type": "code",
   "execution_count": 282,
   "id": "a97f2f30-3237-4f3c-b694-839c60324b92",
   "metadata": {},
   "outputs": [
    {
     "data": {
      "text/plain": [
       "(175862, 7)"
      ]
     },
     "execution_count": 282,
     "metadata": {},
     "output_type": "execute_result"
    }
   ],
   "source": [
    "df_credit_data_selected = df_with_dummies[selected_features]\n",
    "df_credit_data_selected.shape"
   ]
  },
  {
   "cell_type": "code",
   "execution_count": 302,
   "id": "4c3c54b5-49d1-4862-8b00-a7bb0dd75ff5",
   "metadata": {},
   "outputs": [
    {
     "data": {
      "text/plain": [
       "action_taken_name                     0\n",
       "applicant_income_000s                 0\n",
       "loan_amount_000s                      0\n",
       "hud_median_family_income              0\n",
       "loan_purpose_name_Home improvement    0\n",
       "loan_purpose_name_Home purchase       0\n",
       "loan_purpose_name_Refinancing         0\n",
       "dtype: int64"
      ]
     },
     "execution_count": 302,
     "metadata": {},
     "output_type": "execute_result"
    }
   ],
   "source": [
    "df_credit_data_selected.isna().sum()"
   ]
  },
  {
   "cell_type": "markdown",
   "id": "8497d974-da5f-477e-9bf5-910f03f7be13",
   "metadata": {},
   "source": [
    "## deal with missing values\n",
    "ofc there are alternatives: fill with mean / use own model to fill etc"
   ]
  },
  {
   "cell_type": "code",
   "execution_count": 303,
   "id": "192b6e55-1730-4bed-9d66-6e24d36f1d0b",
   "metadata": {},
   "outputs": [
    {
     "data": {
      "text/plain": [
       "(113319, 7)"
      ]
     },
     "execution_count": 303,
     "metadata": {},
     "output_type": "execute_result"
    }
   ],
   "source": [
    "df_credit_data_selected = df_credit_data_selected.dropna(axis= 0)\n",
    "df_credit_data_selected.shape"
   ]
  },
  {
   "cell_type": "markdown",
   "id": "6929a90a-ae64-4ef1-9d3c-347136cd98cd",
   "metadata": {},
   "source": [
    "#### only keep \"loan originated\" and \"application denied by financial instituation\""
   ]
  },
  {
   "cell_type": "code",
   "execution_count": 304,
   "id": "d5470a37-82b2-43bc-a246-08b91e9a6a2e",
   "metadata": {},
   "outputs": [],
   "source": [
    "df_credit_data_selected = df_credit_data_selected[df_credit_data_selected['action_taken_name'].isin(['Loan originated', 'Application denied by financial institution'])]"
   ]
  },
  {
   "cell_type": "code",
   "execution_count": null,
   "id": "3fc51b87-4dc6-4c48-9274-827e2146e019",
   "metadata": {},
   "outputs": [],
   "source": []
  },
  {
   "cell_type": "code",
   "execution_count": 312,
   "id": "bdf7a447-4c8a-4a6d-8c31-eb66a81a621b",
   "metadata": {},
   "outputs": [
    {
     "data": {
      "text/plain": [
       "1    84339\n",
       "0    28980\n",
       "Name: action_taken_name, dtype: int64"
      ]
     },
     "execution_count": 312,
     "metadata": {},
     "output_type": "execute_result"
    }
   ],
   "source": [
    "df_credit_data_selected['action_taken_name'].value_counts()"
   ]
  },
  {
   "cell_type": "code",
   "execution_count": 311,
   "id": "78f79385-2d78-4707-aad8-904a40659809",
   "metadata": {},
   "outputs": [],
   "source": [
    "df_credit_data_selected.replace(['Loan originated', 'Application denied by financial institution'], [1, 0], inplace = True)"
   ]
  },
  {
   "cell_type": "code",
   "execution_count": 313,
   "id": "c06a7c76-e791-4a1e-ae44-f7acd910cabf",
   "metadata": {},
   "outputs": [],
   "source": [
    "X, y = df_credit_data_selected.drop(['action_taken_name'], axis=1), df_credit_data_selected['action_taken_name']"
   ]
  },
  {
   "cell_type": "markdown",
   "id": "8338b49f-adcd-4fd2-9b87-c0cb5dc7ac2e",
   "metadata": {},
   "source": [
    "## train / test split"
   ]
  },
  {
   "cell_type": "code",
   "execution_count": 314,
   "id": "f4371238-1896-45c9-99f5-db196cd5987e",
   "metadata": {},
   "outputs": [],
   "source": [
    "X_train, X_test, y_train, y_test = train_test_split(df_credit_data_selected, y, test_size=0.10, random_state=42)"
   ]
  },
  {
   "cell_type": "code",
   "execution_count": null,
   "id": "d807826a-f967-4d1f-a948-0e6c959c39a8",
   "metadata": {},
   "outputs": [],
   "source": []
  },
  {
   "cell_type": "markdown",
   "id": "db03baa6-fcf5-470c-a124-f37fe7f1a187",
   "metadata": {},
   "source": [
    "# Correlation"
   ]
  },
  {
   "cell_type": "code",
   "execution_count": 308,
   "id": "0d3eccbb-07a3-47c8-adb7-8e92cbf42a70",
   "metadata": {},
   "outputs": [
    {
     "data": {
      "image/png": "[encoded data removed]",
      "text/plain": [
       "<Figure size 432x288 with 2 Axes>"
      ]
     },
     "metadata": {
      "needs_background": "light"
     },
     "output_type": "display_data"
    }
   ],
   "source": [
    "# gender: no big correlation ;)\n",
    "sns.heatmap(X_train.corr())\n",
    "plt.savefig('pics/heatmap_ethnicity.png')"
   ]
  },
  {
   "cell_type": "markdown",
   "id": "bb531dc2-12dd-4fc5-9748-860a3b16153d",
   "metadata": {},
   "source": [
    "# Baseline Model\n",
    "Einfach das einfachste Modell auf die einfachste Datenmenge anwenden, um ein Baseline zu haben"
   ]
  },
  {
   "cell_type": "code",
   "execution_count": 315,
   "id": "fda0f342-93a0-4344-9983-424f704cb16c",
   "metadata": {},
   "outputs": [],
   "source": [
    "mymodel = LogisticRegression(random_state=0).fit(X_test, y_test)"
   ]
  },
  {
   "cell_type": "code",
   "execution_count": 318,
   "id": "2cb3e842-9cab-4589-b2d7-3c229944e6d7",
   "metadata": {},
   "outputs": [],
   "source": [
    "predicted = mymodel.predict(X_test)"
   ]
  },
  {
   "cell_type": "code",
   "execution_count": 319,
   "id": "a4e2318c-c1a2-4a96-b9bb-a3dfacae2755",
   "metadata": {},
   "outputs": [],
   "source": [
    "cm = confusion_matrix(y_test, predicted)"
   ]
  },
  {
   "cell_type": "code",
   "execution_count": 321,
   "id": "0ee21762-83e0-40bd-8cbb-081c54368a33",
   "metadata": {},
   "outputs": [
    {
     "data": {
      "text/plain": [
       "array([[   0, 2858],\n",
       "       [   0, 8474]])"
      ]
     },
     "execution_count": 321,
     "metadata": {},
     "output_type": "execute_result"
    }
   ],
   "source": [
    "cm"
   ]
  },
  {
   "cell_type": "code",
   "execution_count": 323,
   "id": "6f78e7ed-a8f1-4ed5-a55c-bf8aa4e27b0b",
   "metadata": {},
   "outputs": [
    {
     "data": {
      "text/plain": [
       "1    11332\n",
       "dtype: int64"
      ]
     },
     "execution_count": 323,
     "metadata": {},
     "output_type": "execute_result"
    }
   ],
   "source": [
    "pd.DataFrame(predicted).value_counts()"
   ]
  },
  {
   "cell_type": "code",
   "execution_count": null,
   "id": "4ab7a151-1d4f-4c29-972e-ddbaa7888c6d",
   "metadata": {},
   "outputs": [],
   "source": []
  }
 ],
 "metadata": {
  "kernelspec": {
   "display_name": "Python 3 (ipykernel)",
   "language": "python",
   "name": "python3"
  },
  "language_info": {
   "codemirror_mode": {
    "name": "ipython",
    "version": 3
   },
   "file_extension": ".py",
   "mimetype": "text/x-python",
   "name": "python",
   "nbconvert_exporter": "python",
   "pygments_lexer": "ipython3",
   "version": "3.10.6"
  }
 },
 "nbformat": 4,
 "nbformat_minor": 5
}
